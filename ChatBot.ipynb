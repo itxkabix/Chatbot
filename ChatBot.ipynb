{
 "cells": [
  {
   "cell_type": "code",
   "execution_count": 1,
   "id": "196e0492-fd54-4f75-a2e0-943e7ece40ea",
   "metadata": {},
   "outputs": [],
   "source": [
    "import pandas as pd"
   ]
  },
  {
   "cell_type": "code",
   "execution_count": 2,
   "id": "40f19958-5dc6-4c0f-bbcc-5c983ed5c4d6",
   "metadata": {},
   "outputs": [],
   "source": [
    "df = pd.read_csv(\"financials_companies.csv\")"
   ]
  },
  {
   "cell_type": "code",
   "execution_count": 3,
   "id": "c1cc2f57-3420-4da6-b53b-375d7cb5afb6",
   "metadata": {},
   "outputs": [],
   "source": [
    "companies = [\"apple\", \"microsoft\", \"tesla\"]\n",
    "metrics = [\"total revenue\", \"net income\", \"revenue change\", \"revenue growth\", \"cash flow\", \"total assets\"]"
   ]
  },
  {
   "cell_type": "code",
   "execution_count": 4,
   "id": "79f541ba-c1e1-4e1d-9586-af57256197eb",
   "metadata": {},
   "outputs": [],
   "source": [
    "def simple_chatbot(query):\n",
    "    query = query.lower().strip()\n",
    "\n",
    "    company_found = None\n",
    "    for company in companies:\n",
    "        if company in query:\n",
    "            company_found = company\n",
    "            break\n",
    "\n",
    "    metric_found = None\n",
    "    for metric in metrics:\n",
    "        if metric in query:\n",
    "            metric_found = metric\n",
    "            break\n",
    "\n",
    "\n",
    "    if not company_found:\n",
    "        return \" I can only provide data for Apple, Microsoft, or Tesla. Please specify one of these companies.\"\n",
    "    if not metric_found:\n",
    "        return \" Please ask about one of these metrics: Total Revenue, Net Income, Revenue Growth, Cash Flow, or Total Assets.\"\n",
    "\n",
    "\n",
    "    if \"total revenue\" in query:\n",
    "        value = df[(df['Company'].str.lower()==company_found) & (df['Fiscal Year']==2024)]['Total Revenue (USD millions)'].values\n",
    "        if len(value)==0:\n",
    "            return f\"Sorry, I couldn't find revenue data for {company_found.title()}.\"\n",
    "        return f\"{company_found.title()}'s total revenue in 2024 was ${value[0]:,.0f} million.\"\n",
    "\n",
    "    elif \"net income\" in query:\n",
    "        value = df[(df['Company'].str.lower()==company_found) & (df['Fiscal Year']==2024)]['Net Income (USD millions)'].values\n",
    "        if len(value)==0:\n",
    "            return f\"Sorry, I couldn't find net income data for {company_found.title()}.\"\n",
    "        return f\"{company_found.title()}'s net income in 2024 was ${value[0]:,.0f} million.\"\n",
    "\n",
    "    elif \"revenue change\" in query or \"revenue growth\" in query:\n",
    "        value = df[(df['Company'].str.lower()==company_found) & (df['Fiscal Year']==2024)]['Total Revenue (USD millions) YoY Growth (%)'].values\n",
    "        if len(value)==0:\n",
    "            return f\"Sorry, I couldn't find revenue growth data for {company_found.title()}.\"\n",
    "        return f\"{company_found.title()}'s revenue changed by {value[0]:.2f}% in FY2024 compared to FY2023.\"\n",
    "\n",
    "    elif \"cash flow\" in query:\n",
    "        value = df[(df['Company'].str.lower()==company_found) & (df['Fiscal Year']==2024)]['Cash Flow from Operating Activities (USD millions)'].values\n",
    "        if len(value)==0:\n",
    "            return f\"Sorry, I couldn't find cash flow data for {company_found.title()}.\"\n",
    "        return f\"{company_found.title()}'s cash flow from operating activities in 2024 was ${value[0]:,.0f} million.\"\n",
    "\n",
    "    elif \"total assets\" in query:\n",
    "        value = df[(df['Company'].str.lower()==company_found) & (df['Fiscal Year']==2024)]['Total Assets (USD millions)'].values\n",
    "        if len(value)==0:\n",
    "            return f\"Sorry, I couldn't find asset data for {company_found.title()}.\"\n",
    "        return f\"{company_found.title()}'s total assets in 2024 were ${value[0]:,.0f} million.\"\n",
    "\n",
    "  \n",
    "    return \" Sorry, I couldn’t understand your request. Try asking about total revenue, net income, cash flow, or assets.\"\n",
    "\n"
   ]
  },
  {
   "cell_type": "code",
   "execution_count": 5,
   "id": "3e9f184b-0871-469c-8609-0a59d800108b",
   "metadata": {},
   "outputs": [
    {
     "name": "stdout",
     "output_type": "stream",
     "text": [
      "💬 Financial Chatbot Prototype (type 'exit' to quit)\n"
     ]
    },
    {
     "name": "stdin",
     "output_type": "stream",
     "text": [
      "You:  hi\n"
     ]
    },
    {
     "name": "stdout",
     "output_type": "stream",
     "text": [
      "Chatbot: ⚠️ I can only provide data for Apple, Microsoft, or Tesla. Please specify one of these companies.\n"
     ]
    },
    {
     "name": "stdin",
     "output_type": "stream",
     "text": [
      "You:  total revenue\n"
     ]
    },
    {
     "name": "stdout",
     "output_type": "stream",
     "text": [
      "Chatbot: ⚠️ I can only provide data for Apple, Microsoft, or Tesla. Please specify one of these companies.\n"
     ]
    },
    {
     "name": "stdin",
     "output_type": "stream",
     "text": [
      "You:  total revenue of apple\n"
     ]
    },
    {
     "name": "stdout",
     "output_type": "stream",
     "text": [
      "Chatbot: Apple's total revenue in 2024 was $391,035 million.\n"
     ]
    },
    {
     "name": "stdin",
     "output_type": "stream",
     "text": [
      "You:  net income of apple\n"
     ]
    },
    {
     "name": "stdout",
     "output_type": "stream",
     "text": [
      "Chatbot: Apple's net income in 2024 was $93,736 million.\n"
     ]
    },
    {
     "name": "stdin",
     "output_type": "stream",
     "text": [
      "You:  cash flow in apple\n"
     ]
    },
    {
     "name": "stdout",
     "output_type": "stream",
     "text": [
      "Chatbot: Apple's cash flow from operating activities in 2024 was $118,254 million.\n"
     ]
    },
    {
     "name": "stdin",
     "output_type": "stream",
     "text": [
      "You:  total assets of apple\n"
     ]
    },
    {
     "name": "stdout",
     "output_type": "stream",
     "text": [
      "Chatbot: Apple's total assets in 2024 were $364,980 million.\n"
     ]
    },
    {
     "name": "stdin",
     "output_type": "stream",
     "text": [
      "You:  exit\n"
     ]
    },
    {
     "name": "stdout",
     "output_type": "stream",
     "text": [
      "Chatbot: Goodbye! 👋\n"
     ]
    }
   ],
   "source": [
    "print(\"💬 Financial Chatbot Prototype (type 'exit' to quit)\")\n",
    "while True:\n",
    "    user_input = input(\"You: \")\n",
    "    if user_input.lower() in [\"exit\", \"quit\"]:\n",
    "        print(\"Chatbot: Bye! \")\n",
    "        break\n",
    "    print(\"Chatbot:\", simple_chatbot(user_input))\n"
   ]
  },
  {
   "cell_type": "code",
   "execution_count": null,
   "id": "4953881c-8fdb-4cc1-8a89-16e2dacd0bc9",
   "metadata": {},
   "outputs": [],
   "source": []
  }
 ],
 "metadata": {
  "kernelspec": {
   "display_name": "Python 3 (ipykernel)",
   "language": "python",
   "name": "python3"
  },
  "language_info": {
   "codemirror_mode": {
    "name": "ipython",
    "version": 3
   },
   "file_extension": ".py",
   "mimetype": "text/x-python",
   "name": "python",
   "nbconvert_exporter": "python",
   "pygments_lexer": "ipython3",
   "version": "3.12.4"
  }
 },
 "nbformat": 4,
 "nbformat_minor": 5
}
